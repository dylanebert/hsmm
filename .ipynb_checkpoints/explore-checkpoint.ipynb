{
 "cells": [
  {
   "cell_type": "code",
   "execution_count": 1,
   "metadata": {},
   "outputs": [],
   "source": [
    "import numpy as np\n",
    "import torch\n",
    "import argparse\n",
    "import main\n",
    "import hsmm\n",
    "from hsmm import SemiMarkovModule"
   ]
  },
  {
   "cell_type": "code",
   "execution_count": 2,
   "metadata": {},
   "outputs": [],
   "source": [
    "C = 3\n",
    "train_dset = main.ToyDataset(*main.synthetic_data(C=C, num_points=150), max_k=20)\n",
    "test_dset = main.ToyDataset(*main.synthetic_data(C=C, num_points=50), max_k=20)\n",
    "train_loader = main.DataLoader(train_dset, batch_size=10)\n",
    "test_loader = main.DataLoader(test_dset, batch_size=10)"
   ]
  },
  {
   "cell_type": "code",
   "execution_count": 3,
   "metadata": {},
   "outputs": [
    {
     "name": "stdout",
     "output_type": "stream",
     "text": [
      "tensor([0, 0, 1, 2, 2, 0, 0, 0, 1, 1, 2, 0, 0, 0, 1, 2, 2, 2, 2, 0])\n",
      "tensor([ 0, -1,  1,  2, -1,  0, -1, -1,  1, -1,  2,  0, -1, -1,  1,  2, -1, -1,\n",
      "        -1,  0])\n"
     ]
    }
   ],
   "source": [
    "for i in range(len(train_dset)):\n",
    "    labels = train_dset[i]['labels']\n",
    "    features = train_dset[i]['features']\n",
    "    lengths = train_dset[i]['lengths']\n",
    "    valid_classes = train_dset[i]['valid_classes']\n",
    "    spans = train_dset[i]['spans']\n",
    "    print(labels)\n",
    "    print(spans)\n",
    "    break"
   ]
  },
  {
   "cell_type": "code",
   "execution_count": 4,
   "metadata": {},
   "outputs": [],
   "source": [
    "parser = argparse.ArgumentParser()\n",
    "SemiMarkovModule.add_args(parser)\n",
    "args = parser.parse_args('')\n",
    "model = SemiMarkovModule(args, C, C, allow_self_transitions=True)"
   ]
  },
  {
   "cell_type": "code",
   "execution_count": 5,
   "metadata": {},
   "outputs": [],
   "source": [
    "train_features = []\n",
    "train_labels = []\n",
    "for i in range(len(train_dset)):\n",
    "    sample = train_dset[i]\n",
    "    train_features.append(sample['features'])\n",
    "    train_labels.append(sample['labels'])\n",
    "model.fit_supervised(train_features, train_labels)"
   ]
  },
  {
   "cell_type": "code",
   "execution_count": 10,
   "metadata": {},
   "outputs": [
    {
     "name": "stdout",
     "output_type": "stream",
     "text": [
      "torch.Size([10, 20, 3])\n",
      "torch.Size([10, 20, 3])\n"
     ]
    }
   ],
   "source": [
    "for batch in test_loader:\n",
    "    features = batch['features']\n",
    "    lengths = batch['lengths']\n",
    "    valid_classes = batch['valid_classes']\n",
    "    \n",
    "    \n",
    "    \n",
    "    #scores, log_det = model.score_features(features, lengths, valid_classes, add_eos=True)\n",
    "    break"
   ]
  },
  {
   "cell_type": "code",
   "execution_count": null,
   "metadata": {},
   "outputs": [],
   "source": []
  }
 ],
 "metadata": {
  "kernelspec": {
   "display_name": "act-recog",
   "language": "python",
   "name": "act-recog"
  },
  "language_info": {
   "codemirror_mode": {
    "name": "ipython",
    "version": 3
   },
   "file_extension": ".py",
   "mimetype": "text/x-python",
   "name": "python",
   "nbconvert_exporter": "python",
   "pygments_lexer": "ipython3",
   "version": "3.8.3"
  }
 },
 "nbformat": 4,
 "nbformat_minor": 4
}
