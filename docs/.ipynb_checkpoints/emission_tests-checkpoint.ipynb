{
 "cells": [
  {
   "cell_type": "code",
   "execution_count": 10,
   "metadata": {},
   "outputs": [],
   "source": [
    "import numpy as np\n",
    "from sklearn.mixture import GaussianMixture\n",
    "import random\n",
    "random.seed(0)\n",
    "np.set_printoptions(suppress=True)"
   ]
  },
  {
   "cell_type": "code",
   "execution_count": 28,
   "metadata": {},
   "outputs": [],
   "source": [
    "N = 100\n",
    "C = 2\n",
    "d = 2\n",
    "resp = np.zeros((N, C))\n",
    "feat = np.zeros((N, d))\n",
    "for i in range(N):\n",
    "    if random.random() < .5:\n",
    "        feat[i, :] = np.random.normal(size=(d,))\n",
    "        resp[i, 1] = 1\n",
    "    else:\n",
    "        resp[i, 0] = 1"
   ]
  },
  {
   "cell_type": "markdown",
   "metadata": {},
   "source": [
    "**Full**"
   ]
  },
  {
   "cell_type": "code",
   "execution_count": 29,
   "metadata": {},
   "outputs": [
    {
     "name": "stdout",
     "output_type": "stream",
     "text": [
      "[[[ 0.53264047 -0.07138762]\n",
      "  [-0.07138762  0.2818753 ]]\n",
      "\n",
      " [[ 0.66802733  0.02451197]\n",
      "  [ 0.02451197  0.64829802]]]\n"
     ]
    }
   ],
   "source": [
    "emissions = GaussianMixture(C, covariance_type='full')\n",
    "emissions._initialize(feat, resp)\n",
    "print(emissions.covariances_)"
   ]
  },
  {
   "cell_type": "markdown",
   "metadata": {},
   "source": [
    "**Diag**"
   ]
  },
  {
   "cell_type": "code",
   "execution_count": 22,
   "metadata": {},
   "outputs": [
    {
     "name": "stdout",
     "output_type": "stream",
     "text": [
      "[[0.000001   0.000001  ]\n",
      " [1.14960479 1.33585438]]\n"
     ]
    }
   ],
   "source": [
    "emissions = GaussianMixture(C, covariance_type='diag')\n",
    "emissions._initialize(feat, resp)\n",
    "print(emissions.covariances_)"
   ]
  },
  {
   "cell_type": "markdown",
   "metadata": {},
   "source": [
    "**Tied_diag**"
   ]
  },
  {
   "cell_type": "code",
   "execution_count": 23,
   "metadata": {},
   "outputs": [
    {
     "name": "stdout",
     "output_type": "stream",
     "text": [
      "[[0.64886922 0.74870459]]\n"
     ]
    }
   ],
   "source": [
    "emissions = GaussianMixture(C, covariance_type='diag')\n",
    "resp_ = np.ones((feat.shape[0], 1))\n",
    "emissions._initialize(feat, resp_)\n",
    "print(emissions.covariances_)"
   ]
  },
  {
   "cell_type": "markdown",
   "metadata": {},
   "source": [
    "**Tied**"
   ]
  },
  {
   "cell_type": "code",
   "execution_count": 24,
   "metadata": {},
   "outputs": [
    {
     "name": "stdout",
     "output_type": "stream",
     "text": [
      "[[ 0.64377912 -0.04740708]\n",
      " [-0.04740708  0.74807889]]\n"
     ]
    }
   ],
   "source": [
    "emissions = GaussianMixture(C, covariance_type='tied')\n",
    "emissions._initialize(feat, resp)\n",
    "print(emissions.covariances_)"
   ]
  },
  {
   "cell_type": "code",
   "execution_count": null,
   "metadata": {},
   "outputs": [],
   "source": []
  }
 ],
 "metadata": {
  "kernelspec": {
   "display_name": "act-recog",
   "language": "python",
   "name": "act-recog"
  },
  "language_info": {
   "codemirror_mode": {
    "name": "ipython",
    "version": 3
   },
   "file_extension": ".py",
   "mimetype": "text/x-python",
   "name": "python",
   "nbconvert_exporter": "python",
   "pygments_lexer": "ipython3",
   "version": "3.8.3"
  }
 },
 "nbformat": 4,
 "nbformat_minor": 4
}
