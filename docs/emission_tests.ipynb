{
 "cells": [
  {
   "cell_type": "code",
   "execution_count": 24,
   "metadata": {},
   "outputs": [],
   "source": [
    "import numpy as np\n",
    "from sklearn.mixture import GaussianMixture\n",
    "import random\n",
    "random.seed(0)\n",
    "np.set_printoptions(suppress=True)"
   ]
  },
  {
   "cell_type": "code",
   "execution_count": 25,
   "metadata": {},
   "outputs": [],
   "source": [
    "N = 100\n",
    "C = 2\n",
    "d = 3\n",
    "resp = np.zeros((N, C))\n",
    "feat = np.zeros((N, d))\n",
    "for i in range(N):\n",
    "    if random.random() < .5:\n",
    "        feat[i, 0] = np.random.normal()\n",
    "        resp[i, 1] = 1\n",
    "    else:\n",
    "        resp[i, 0] = 1"
   ]
  },
  {
   "cell_type": "markdown",
   "metadata": {},
   "source": [
    "**Full**"
   ]
  },
  {
   "cell_type": "code",
   "execution_count": 26,
   "metadata": {},
   "outputs": [
    {
     "name": "stdout",
     "output_type": "stream",
     "text": [
      "[[[0.000001   0.         0.        ]\n",
      "  [0.         0.000001   0.        ]\n",
      "  [0.         0.         0.000001  ]]\n",
      "\n",
      " [[1.18192371 0.         0.        ]\n",
      "  [0.         0.000001   0.        ]\n",
      "  [0.         0.         0.000001  ]]]\n"
     ]
    }
   ],
   "source": [
    "emissions = GaussianMixture(C, covariance_type='full')\n",
    "emissions._initialize(feat, resp)\n",
    "print(emissions.covariances_)"
   ]
  },
  {
   "cell_type": "markdown",
   "metadata": {},
   "source": [
    "**Diag**"
   ]
  },
  {
   "cell_type": "code",
   "execution_count": 27,
   "metadata": {},
   "outputs": [
    {
     "name": "stdout",
     "output_type": "stream",
     "text": [
      "[[0.000001   0.000001   0.000001  ]\n",
      " [1.18192371 0.000001   0.000001  ]]\n"
     ]
    }
   ],
   "source": [
    "emissions = GaussianMixture(C, covariance_type='diag')\n",
    "emissions._initialize(feat, resp)\n",
    "print(emissions.covariances_)"
   ]
  },
  {
   "cell_type": "markdown",
   "metadata": {},
   "source": [
    "**Tied_diag**"
   ]
  },
  {
   "cell_type": "code",
   "execution_count": 20,
   "metadata": {},
   "outputs": [
    {
     "name": "stdout",
     "output_type": "stream",
     "text": [
      "[[0.61106457 0.000001   0.000001  ]]\n"
     ]
    }
   ],
   "source": [
    "emissions = GaussianMixture(C, covariance_type='diag')\n",
    "resp_ = np.ones((feat.shape[0], 1))\n",
    "emissions._initialize(feat, resp_)\n",
    "print(emissions.covariances_)"
   ]
  },
  {
   "cell_type": "markdown",
   "metadata": {},
   "source": [
    "**Tied**"
   ]
  },
  {
   "cell_type": "code",
   "execution_count": 21,
   "metadata": {},
   "outputs": [
    {
     "name": "stdout",
     "output_type": "stream",
     "text": [
      "[[0.6084831 0.        0.       ]\n",
      " [0.        0.000001  0.       ]\n",
      " [0.        0.        0.000001 ]]\n"
     ]
    }
   ],
   "source": [
    "emissions = GaussianMixture(C, covariance_type='tied')\n",
    "emissions._initialize(feat, resp)\n",
    "print(emissions.covariances_)"
   ]
  },
  {
   "cell_type": "code",
   "execution_count": null,
   "metadata": {},
   "outputs": [],
   "source": []
  }
 ],
 "metadata": {
  "kernelspec": {
   "display_name": "act-recog",
   "language": "python",
   "name": "act-recog"
  },
  "language_info": {
   "codemirror_mode": {
    "name": "ipython",
    "version": 3
   },
   "file_extension": ".py",
   "mimetype": "text/x-python",
   "name": "python",
   "nbconvert_exporter": "python",
   "pygments_lexer": "ipython3",
   "version": "3.8.3"
  }
 },
 "nbformat": 4,
 "nbformat_minor": 4
}
