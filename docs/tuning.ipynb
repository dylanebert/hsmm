{
 "cells": [
  {
   "cell_type": "markdown",
   "metadata": {},
   "source": [
    "# Tuning Documentation"
   ]
  },
  {
   "cell_type": "markdown",
   "metadata": {},
   "source": [
    "## Hyperparameters\n",
    "\n",
    "**max_k**\n",
    "- Maximum length of a segment (without requiring self-transition)\n",
    "- Ideally high enough to capture max segment lengths in the data, but limited by quadratic memory complexity w.r.t. $k$\n",
    "\n",
    "**subsample**\n",
    "- Inverse proportional to framerate, such that a rate of 90 results in 1hz, 9=10hz, 1=90hz, etc.\n",
    "- Needs to be low enough to capture actions with sufficient detail, but high enough that segments aren't longer than $max\\_k$\n",
    "\n",
    "**sm_allow_self_transitions**\n",
    "- Whether to allow self-transitions in the hsmm. \n",
    "- Necessary to capture segments that are longer than $max\\_k$\n",
    "- Can help model performance, but requires sufficiently short segments\n",
    "\n",
    "**trim**\n",
    "- Whether to trim idle frames that aren't within 5 frames of an action\n",
    "\n",
    "**train_segmentation / dev_segmentation / test_segmentation**\n",
    "- How sequences are segmented, one of:\n",
    "    * token_aligned (the five seconds following when a target word is said)\n",
    "    * chunked (split evenly into five second chunks)\n",
    "    * session (each full recording session, default choice for HSMM)\n",
    "    * actions (extracted action segments)\n",
    "\n",
    "**features**\n",
    "- Which features from the dataset to use, with the format feature:target (e.g. speed:Apple)\n",
    "- Feature options include:\n",
    "    * posX\n",
    "    * posY\n",
    "    * posZ\n",
    "    * relPosX\n",
    "    * relPosY\n",
    "    * relPosZ\n",
    "    * velX\n",
    "    * velY\n",
    "    * velZ\n",
    "    * relVelX\n",
    "    * relVelY\n",
    "    * relVelZ\n",
    "    * rotX\n",
    "    * rotY\n",
    "    * rotZ\n",
    "    * relRotX\n",
    "    * relRotY\n",
    "    * relRotZ\n",
    "    * speed (magnitude velocity xyz)\n",
    "    * moving (0 or 1 for if target has speed > 0)\n",
    "- Target options include:\n",
    "    * Knife\n",
    "    * Banana\n",
    "    * Apple\n",
    "    * Fork\n",
    "    * Plant\n",
    "    * Book\n",
    "    * Spoon\n",
    "    * Bowl\n",
    "    * Cup\n",
    "    * Lamp\n",
    "    * Ball\n",
    "    * Bear\n",
    "    * Toy\n",
    "    * Doll\n",
    "    * RightHand\n",
    "    * LeftHand\n",
    "    * Head\n",
    "    * Dinosaur\n",
    "    * most_moving_obj (highest variance position object across full sequence)\n",
    "    * most_moving_hand (highest variance position hand across full sequence)"
   ]
  }
 ],
 "metadata": {
  "kernelspec": {
   "display_name": "Python 3",
   "language": "python",
   "name": "python3"
  },
  "language_info": {
   "codemirror_mode": {
    "name": "ipython",
    "version": 3
   },
   "file_extension": ".py",
   "mimetype": "text/x-python",
   "name": "python",
   "nbconvert_exporter": "python",
   "pygments_lexer": "ipython3",
   "version": "3.8.3"
  }
 },
 "nbformat": 4,
 "nbformat_minor": 4
}
